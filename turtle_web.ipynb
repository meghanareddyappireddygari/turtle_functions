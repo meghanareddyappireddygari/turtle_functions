{
  "nbformat": 4,
  "nbformat_minor": 0,
  "metadata": {
    "colab": {
      "name": "turtle-web",
      "provenance": [],
      "authorship_tag": "ABX9TyO9o1AseFUL8yyIY7x4bIxm",
      "include_colab_link": true
    },
    "kernelspec": {
      "name": "python3",
      "display_name": "Python 3"
    },
    "language_info": {
      "name": "python"
    }
  },
  "cells": [
    {
      "cell_type": "markdown",
      "metadata": {
        "id": "view-in-github",
        "colab_type": "text"
      },
      "source": [
        "<a href=\"https://colab.research.google.com/github/meghanareddyappireddygari/turtle_functions/blob/main/turtle_web.ipynb\" target=\"_parent\"><img src=\"https://colab.research.google.com/assets/colab-badge.svg\" alt=\"Open In Colab\"/></a>"
      ]
    },
    {
      "cell_type": "code",
      "metadata": {
        "id": "rysP3nJmpEGn"
      },
      "source": [
        "import turtle"
      ],
      "execution_count": 1,
      "outputs": []
    },
    {
      "cell_type": "code",
      "metadata": {
        "colab": {
          "base_uri": "https://localhost:8080/"
        },
        "id": "No9Q_GOZph_-",
        "outputId": "f64e7996-6e1b-4b05-a5ed-156ab5558e29"
      },
      "source": [
        "!pip3 install ColabTurtle\n",
        "from ColabTurtle.Turtle import*"
      ],
      "execution_count": 2,
      "outputs": [
        {
          "output_type": "stream",
          "name": "stdout",
          "text": [
            "Collecting ColabTurtle\n",
            "  Downloading ColabTurtle-2.1.0.tar.gz (6.8 kB)\n",
            "Building wheels for collected packages: ColabTurtle\n",
            "  Building wheel for ColabTurtle (setup.py) ... \u001b[?25l\u001b[?25hdone\n",
            "  Created wheel for ColabTurtle: filename=ColabTurtle-2.1.0-py3-none-any.whl size=7655 sha256=ff4b45b174619c5a3e9470bfeb7a50175c3ac9c0d448e913973bd97de1d28553\n",
            "  Stored in directory: /root/.cache/pip/wheels/0d/ab/65/cc4478508751448dfb4ecb20a6533082855c227dfce8c13902\n",
            "Successfully built ColabTurtle\n",
            "Installing collected packages: ColabTurtle\n",
            "Successfully installed ColabTurtle-2.1.0\n"
          ]
        }
      ]
    },
    {
      "cell_type": "code",
      "metadata": {
        "id": "lzyJAPsXplXy"
      },
      "source": [
        "import ColabTurtle.Turtle as tim\n",
        "from random import randint\n",
        "\n",
        "def initializeTimeTheTurtle():\n",
        "  initializeTurtle()\n",
        "  penup()\n",
        "  goto(400, 10)\n",
        "  pendown()\n",
        "  tim.right(90)\n",
        "\n",
        "def drawShapes(num_sides):\n",
        "  tim.color(randint(0,220),randint(0, 220),randint(0, 220))\n",
        "  for _ in range(num_sides):\n",
        "    angle = 360/num_sides\n",
        "    tim.forward(100)\n",
        "    tim.right(angle)"
      ],
      "execution_count": 3,
      "outputs": []
    },
    {
      "cell_type": "code",
      "metadata": {
        "colab": {
          "base_uri": "https://localhost:8080/",
          "height": 521
        },
        "id": "4CQiQwaopqHc",
        "outputId": "9351c634-762e-4fbb-b298-8f06724f0113"
      },
      "source": [
        "initializeTurtle()"
      ],
      "execution_count": 4,
      "outputs": [
        {
          "output_type": "display_data",
          "data": {
            "text/html": [
              "\n",
              "      <svg width=\"800\" height=\"500\">\n",
              "        <rect width=\"100%\" height=\"100%\" fill=\"black\"/>\n",
              "        \n",
              "        <g visibility=visible transform=\"rotate(360,400,250) translate(382, 232)\">\n",
              "<path style=\" stroke:none;fill-rule:evenodd;fill:white;fill-opacity:1;\" d=\"M 18.214844 0.632812 C 16.109375 1.800781 15.011719 4.074219 15.074219 7.132812 L 15.085938 7.652344 L 14.785156 7.496094 C 13.476562 6.824219 11.957031 6.671875 10.40625 7.066406 C 8.46875 7.550781 6.515625 9.15625 4.394531 11.992188 C 3.0625 13.777344 2.679688 14.636719 3.042969 15.027344 L 3.15625 15.152344 L 3.519531 15.152344 C 4.238281 15.152344 4.828125 14.886719 8.1875 13.039062 C 9.386719 12.378906 10.371094 11.839844 10.378906 11.839844 C 10.386719 11.839844 10.355469 11.929688 10.304688 12.035156 C 9.832031 13.09375 9.257812 14.820312 8.96875 16.078125 C 7.914062 20.652344 8.617188 24.53125 11.070312 27.660156 C 11.351562 28.015625 11.363281 27.914062 10.972656 28.382812 C 8.925781 30.84375 7.945312 33.28125 8.238281 35.1875 C 8.289062 35.527344 8.28125 35.523438 8.917969 35.523438 C 10.941406 35.523438 13.074219 34.207031 15.136719 31.6875 C 15.359375 31.417969 15.328125 31.425781 15.5625 31.574219 C 16.292969 32.042969 18.023438 32.964844 18.175781 32.964844 C 18.335938 32.964844 19.941406 32.210938 20.828125 31.71875 C 20.996094 31.625 21.136719 31.554688 21.136719 31.558594 C 21.203125 31.664062 21.898438 32.414062 22.222656 32.730469 C 23.835938 34.300781 25.5625 35.132812 27.582031 35.300781 C 27.90625 35.328125 27.9375 35.308594 28.007812 34.984375 C 28.382812 33.242188 27.625 30.925781 25.863281 28.425781 L 25.542969 27.96875 L 25.699219 27.785156 C 28.945312 23.960938 29.132812 18.699219 26.257812 11.96875 L 26.207031 11.84375 L 27.945312 12.703125 C 31.53125 14.476562 32.316406 14.800781 33.03125 14.800781 C 33.976562 14.800781 33.78125 13.9375 32.472656 12.292969 C 28.519531 7.355469 25.394531 5.925781 21.921875 7.472656 L 21.558594 7.636719 L 21.578125 7.542969 C 21.699219 6.992188 21.761719 5.742188 21.699219 5.164062 C 21.496094 3.296875 20.664062 1.964844 19.003906 0.855469 C 18.480469 0.503906 18.457031 0.5 18.214844 0.632812\"/>\n",
              "</g>\n",
              "      </svg>\n",
              "    "
            ],
            "text/plain": [
              "<IPython.core.display.HTML object>"
            ]
          },
          "metadata": {}
        }
      ]
    },
    {
      "cell_type": "code",
      "metadata": {
        "colab": {
          "base_uri": "https://localhost:8080/",
          "height": 521
        },
        "id": "khH0nDvHptn8",
        "outputId": "ff12b348-b3b5-4e88-db08-c645b26a89d3"
      },
      "source": [
        "import colorsys\n",
        "\n",
        "tim.color('white')\n",
        "\n",
        "tim.width(5)\n",
        "n = 200\n",
        "h = 0\n",
        "for i in range(200):\n",
        "  tim.right(59)\n",
        "  for c in range(1):\n",
        "    tim.forward(i*2)\n",
        "    c = colorsys.hsv_to_rgb(h,1,0.8)\n",
        "    h +=i/n"
      ],
      "execution_count": 5,
      "outputs": [
        {
          "output_type": "display_data",
          "data": {
            "text/html": [
              "\n",
              "      <svg width=\"800\" height=\"500\">\n",
              "        <rect width=\"100%\" height=\"100%\" fill=\"black\"/>\n",
              "        <line x1=\"400\" y1=\"250\" x2=\"400.0\" y2=\"250.0\" stroke-linecap=\"round\" style=\"stroke:white;stroke-width:5\"/><line x1=\"400.0\" y1=\"250.0\" x2=\"401.766\" y2=\"250.939\" stroke-linecap=\"round\" style=\"stroke:white;stroke-width:5\"/><line x1=\"401.766\" y1=\"250.939\" x2=\"401.975\" y2=\"254.934\" stroke-linecap=\"round\" style=\"stroke:white;stroke-width:5\"/><line x1=\"401.975\" y1=\"254.934\" x2=\"397.001\" y2=\"258.289\" stroke-linecap=\"round\" style=\"stroke:white;stroke-width:5\"/><line x1=\"397.001\" y1=\"258.289\" x2=\"389.751\" y2=\"254.908\" stroke-linecap=\"round\" style=\"stroke:white;stroke-width:5\"/><line x1=\"389.751\" y1=\"254.908\" x2=\"388.706\" y2=\"244.963\" stroke-linecap=\"round\" style=\"stroke:white;stroke-width:5\"/><line x1=\"388.706\" y1=\"244.963\" x2=\"398.29\" y2=\"237.741\" stroke-linecap=\"round\" style=\"stroke:white;stroke-width:5\"/><line x1=\"398.29\" y1=\"237.741\" x2=\"411.271\" y2=\"242.985\" stroke-linecap=\"round\" style=\"stroke:white;stroke-width:5\"/><line x1=\"411.271\" y1=\"242.985\" x2=\"413.774\" y2=\"258.788\" stroke-linecap=\"round\" style=\"stroke:white;stroke-width:5\"/><line x1=\"413.774\" y1=\"258.788\" x2=\"399.985\" y2=\"270.358\" stroke-linecap=\"round\" style=\"stroke:white;stroke-width:5\"/><line x1=\"399.985\" y1=\"270.358\" x2=\"381.075\" y2=\"263.847\" stroke-linecap=\"round\" style=\"stroke:white;stroke-width:5\"/><line x1=\"381.075\" y1=\"263.847\" x2=\"376.501\" y2=\"242.328\" stroke-linecap=\"round\" style=\"stroke:white;stroke-width:5\"/><line x1=\"376.501\" y1=\"242.328\" x2=\"394.053\" y2=\"225.96\" stroke-linecap=\"round\" style=\"stroke:white;stroke-width:5\"/><line x1=\"394.053\" y1=\"225.96\" x2=\"419.046\" y2=\"233.127\" stroke-linecap=\"round\" style=\"stroke:white;stroke-width:5\"/><line x1=\"419.046\" y1=\"233.127\" x2=\"426.293\" y2=\"260.173\" stroke-linecap=\"round\" style=\"stroke:white;stroke-width:5\"/><line x1=\"426.293\" y1=\"260.173\" x2=\"405.453\" y2=\"281.753\" stroke-linecap=\"round\" style=\"stroke:white;stroke-width:5\"/><line x1=\"405.453\" y1=\"281.753\" x2=\"374.273\" y2=\"274.555\" stroke-linecap=\"round\" style=\"stroke:white;stroke-width:5\"/><line x1=\"374.273\" y1=\"274.555\" x2=\"363.766\" y2=\"242.219\" stroke-linecap=\"round\" style=\"stroke:white;stroke-width:5\"/><line x1=\"363.766\" y1=\"242.219\" x2=\"387.384\" y2=\"215.049\" stroke-linecap=\"round\" style=\"stroke:white;stroke-width:5\"/><line x1=\"387.384\" y1=\"215.049\" x2=\"424.807\" y2=\"221.648\" stroke-linecap=\"round\" style=\"stroke:white;stroke-width:5\"/><line x1=\"424.807\" y1=\"221.648\" x2=\"439.142\" y2=\"258.991\" stroke-linecap=\"round\" style=\"stroke:white;stroke-width:5\"/><line x1=\"439.142\" y1=\"258.991\" x2=\"413.284\" y2=\"292.087\" stroke-linecap=\"round\" style=\"stroke:white;stroke-width:5\"/><line x1=\"413.284\" y1=\"292.087\" x2=\"369.612\" y2=\"286.725\" stroke-linecap=\"round\" style=\"stroke:white;stroke-width:5\"/><line x1=\"369.612\" y1=\"286.725\" x2=\"350.902\" y2=\"244.702\" stroke-linecap=\"round\" style=\"stroke:white;stroke-width:5\"/><line x1=\"350.902\" y1=\"244.702\" x2=\"378.434\" y2=\"205.383\" stroke-linecap=\"round\" style=\"stroke:white;stroke-width:5\"/><line x1=\"378.434\" y1=\"205.383\" x2=\"428.312\" y2=\"208.871\" stroke-linecap=\"round\" style=\"stroke:white;stroke-width:5\"/><line x1=\"428.312\" y1=\"208.871\" x2=\"451.92\" y2=\"255.203\" stroke-linecap=\"round\" style=\"stroke:white;stroke-width:5\"/><line x1=\"451.92\" y1=\"255.203\" x2=\"423.304\" y2=\"300.998\" stroke-linecap=\"round\" style=\"stroke:white;stroke-width:5\"/><line x1=\"423.304\" y1=\"300.998\" x2=\"367.313\" y2=\"300.021\" stroke-linecap=\"round\" style=\"stroke:white;stroke-width:5\"/><line x1=\"367.313\" y1=\"300.021\" x2=\"338.313\" y2=\"249.792\" stroke-linecap=\"round\" style=\"stroke:white;stroke-width:5\"/><line x1=\"338.313\" y1=\"249.792\" x2=\"367.402\" y2=\"197.315\" stroke-linecap=\"round\" style=\"stroke:white;stroke-width:5\"/><line x1=\"367.402\" y1=\"197.315\" x2=\"429.364\" y2=\"195.151\" stroke-linecap=\"round\" style=\"stroke:white;stroke-width:5\"/><line x1=\"429.364\" y1=\"195.151\" x2=\"464.221\" y2=\"248.826\" stroke-linecap=\"round\" style=\"stroke:white;stroke-width:5\"/><line x1=\"464.221\" y1=\"248.826\" x2=\"435.289\" y2=\"308.146\" stroke-linecap=\"round\" style=\"stroke:white;stroke-width:5\"/><line x1=\"435.289\" y1=\"308.146\" x2=\"367.548\" y2=\"314.073\" stroke-linecap=\"round\" style=\"stroke:white;stroke-width:5\"/><line x1=\"367.548\" y1=\"314.073\" x2=\"326.403\" y2=\"257.442\" stroke-linecap=\"round\" style=\"stroke:white;stroke-width:5\"/><line x1=\"326.403\" y1=\"257.442\" x2=\"354.536\" y2=\"191.166\" stroke-linecap=\"round\" style=\"stroke:white;stroke-width:5\"/><line x1=\"354.536\" y1=\"191.166\" x2=\"427.816\" y2=\"180.867\" stroke-linecap=\"round\" style=\"stroke:white;stroke-width:5\"/><line x1=\"427.816\" y1=\"180.867\" x2=\"475.644\" y2=\"239.93\" stroke-linecap=\"round\" style=\"stroke:white;stroke-width:5\"/><line x1=\"475.644\" y1=\"239.93\" x2=\"448.966\" y2=\"313.226\" stroke-linecap=\"round\" style=\"stroke:white;stroke-width:5\"/><line x1=\"448.966\" y1=\"313.226\" x2=\"370.436\" y2=\"328.491\" stroke-linecap=\"round\" style=\"stroke:white;stroke-width:5\"/><line x1=\"370.436\" y1=\"328.491\" x2=\"315.567\" y2=\"267.553\" stroke-linecap=\"round\" style=\"stroke:white;stroke-width:5\"/><line x1=\"315.567\" y1=\"267.553\" x2=\"340.126\" y2=\"187.223\" stroke-linecap=\"round\" style=\"stroke:white;stroke-width:5\"/><line x1=\"340.126\" y1=\"187.223\" x2=\"423.571\" y2=\"166.418\" stroke-linecap=\"round\" style=\"stroke:white;stroke-width:5\"/><line x1=\"423.571\" y1=\"166.418\" x2=\"485.796\" y2=\"228.643\" stroke-linecap=\"round\" style=\"stroke:white;stroke-width:5\"/><line x1=\"485.796\" y1=\"228.643\" x2=\"464.023\" y2=\"315.97\" stroke-linecap=\"round\" style=\"stroke:white;stroke-width:5\"/><line x1=\"464.023\" y1=\"315.97\" x2=\"376.043\" y2=\"342.868\" stroke-linecap=\"round\" style=\"stroke:white;stroke-width:5\"/><line x1=\"376.043\" y1=\"342.868\" x2=\"306.187\" y2=\"279.97\" stroke-linecap=\"round\" style=\"stroke:white;stroke-width:5\"/><line x1=\"306.187\" y1=\"279.97\" x2=\"324.505\" y2=\"185.734\" stroke-linecap=\"round\" style=\"stroke:white;stroke-width:5\"/><line x1=\"324.505\" y1=\"185.734\" x2=\"416.595\" y2=\"152.216\" stroke-linecap=\"round\" style=\"stroke:white;stroke-width:5\"/><line x1=\"416.595\" y1=\"152.216\" x2=\"494.31\" y2=\"215.148\" stroke-linecap=\"round\" style=\"stroke:white;stroke-width:5\"/><line x1=\"494.31\" y1=\"215.148\" x2=\"480.114\" y2=\"316.155\" stroke-linecap=\"round\" style=\"stroke:white;stroke-width:5\"/><line x1=\"480.114\" y1=\"316.155\" x2=\"384.381\" y2=\"356.791\" stroke-linecap=\"round\" style=\"stroke:white;stroke-width:5\"/><line x1=\"384.381\" y1=\"356.791\" x2=\"298.625\" y2=\"294.486\" stroke-linecap=\"round\" style=\"stroke:white;stroke-width:5\"/><line x1=\"298.625\" y1=\"294.486\" x2=\"308.038\" y2=\"186.897\" stroke-linecap=\"round\" style=\"stroke:white;stroke-width:5\"/><line x1=\"308.038\" y1=\"186.897\" x2=\"406.905\" y2=\"138.676\" stroke-linecap=\"round\" style=\"stroke:white;stroke-width:5\"/><line x1=\"406.905\" y1=\"138.676\" x2=\"500.836\" y2=\"199.676\" stroke-linecap=\"round\" style=\"stroke:white;stroke-width:5\"/><line x1=\"500.836\" y1=\"199.676\" x2=\"496.857\" y2=\"313.607\" stroke-linecap=\"round\" style=\"stroke:white;stroke-width:5\"/><line x1=\"496.857\" y1=\"313.607\" x2=\"395.401\" y2=\"369.845\" stroke-linecap=\"round\" style=\"stroke:white;stroke-width:5\"/><line x1=\"395.401\" y1=\"369.845\" x2=\"293.21\" y2=\"310.845\" stroke-linecap=\"round\" style=\"stroke:white;stroke-width:5\"/><line x1=\"293.21\" y1=\"310.845\" x2=\"291.116\" y2=\"190.863\" stroke-linecap=\"round\" style=\"stroke:white;stroke-width:5\"/><line x1=\"291.116\" y1=\"190.863\" x2=\"394.578\" y2=\"126.213\" stroke-linecap=\"round\" style=\"stroke:white;stroke-width:5\"/><line x1=\"394.578\" y1=\"126.213\" x2=\"505.063\" y2=\"182.508\" stroke-linecap=\"round\" style=\"stroke:white;stroke-width:5\"/><line x1=\"505.063\" y1=\"182.508\" x2=\"513.852\" y2=\"308.201\" stroke-linecap=\"round\" style=\"stroke:white;stroke-width:5\"/><line x1=\"513.852\" y1=\"308.201\" x2=\"409.001\" y2=\"381.619\" stroke-linecap=\"round\" style=\"stroke:white;stroke-width:5\"/><line x1=\"409.001\" y1=\"381.619\" x2=\"290.24\" y2=\"328.743\" stroke-linecap=\"round\" style=\"stroke:white;stroke-width:5\"/><line x1=\"290.24\" y1=\"328.743\" x2=\"274.153\" y2=\"197.727\" stroke-linecap=\"round\" style=\"stroke:white;stroke-width:5\"/><line x1=\"274.153\" y1=\"197.727\" x2=\"379.746\" y2=\"115.228\" stroke-linecap=\"round\" style=\"stroke:white;stroke-width:5\"/><line x1=\"379.746\" y1=\"115.228\" x2=\"506.713\" y2=\"163.966\" stroke-linecap=\"round\" style=\"stroke:white;stroke-width:5\"/><line x1=\"506.713\" y1=\"163.966\" x2=\"530.676\" y2=\"299.869\" stroke-linecap=\"round\" style=\"stroke:white;stroke-width:5\"/><line x1=\"530.676\" y1=\"299.869\" x2=\"425.017\" y2=\"391.717\" stroke-linecap=\"round\" style=\"stroke:white;stroke-width:5\"/><line x1=\"425.017\" y1=\"391.717\" x2=\"289.967\" y2=\"347.837\" stroke-linecap=\"round\" style=\"stroke:white;stroke-width:5\"/><line x1=\"289.967\" y1=\"347.837\" x2=\"257.574\" y2=\"207.528\" stroke-linecap=\"round\" style=\"stroke:white;stroke-width:5\"/><line x1=\"257.574\" y1=\"207.528\" x2=\"362.598\" y2=\"106.108\" stroke-linecap=\"round\" style=\"stroke:white;stroke-width:5\"/><line x1=\"362.598\" y1=\"106.108\" x2=\"505.555\" y2=\"144.413\" stroke-linecap=\"round\" style=\"stroke:white;stroke-width:5\"/><line x1=\"505.555\" y1=\"144.413\" x2=\"546.901\" y2=\"288.602\" stroke-linecap=\"round\" style=\"stroke:white;stroke-width:5\"/><line x1=\"546.901\" y1=\"288.602\" x2=\"443.237\" y2=\"399.768\" stroke-linecap=\"round\" style=\"stroke:white;stroke-width:5\"/><line x1=\"443.237\" y1=\"399.768\" x2=\"292.602\" y2=\"367.75\" stroke-linecap=\"round\" style=\"stroke:white;stroke-width:5\"/><line x1=\"292.602\" y1=\"367.75\" x2=\"241.813\" y2=\"220.249\" stroke-linecap=\"round\" style=\"stroke:white;stroke-width:5\"/><line x1=\"241.813\" y1=\"220.249\" x2=\"343.373\" y2=\"99.214\" stroke-linecap=\"round\" style=\"stroke:white;stroke-width:5\"/><line x1=\"343.373\" y1=\"99.214\" x2=\"501.403\" y2=\"124.244\" stroke-linecap=\"round\" style=\"stroke:white;stroke-width:5\"/><line x1=\"501.403\" y1=\"124.244\" x2=\"562.089\" y2=\"274.448\" stroke-linecap=\"round\" style=\"stroke:white;stroke-width:5\"/><line x1=\"562.089\" y1=\"274.448\" x2=\"463.391\" y2=\"405.424\" stroke-linecap=\"round\" style=\"stroke:white;stroke-width:5\"/><line x1=\"463.391\" y1=\"405.424\" x2=\"298.3\" y2=\"388.072\" stroke-linecap=\"round\" style=\"stroke:white;stroke-width:5\"/><line x1=\"298.3\" y1=\"388.072\" x2=\"227.3\" y2=\"235.812\" stroke-linecap=\"round\" style=\"stroke:white;stroke-width:5\"/><line x1=\"227.3\" y1=\"235.812\" x2=\"322.363\" y2=\"94.876\" stroke-linecap=\"round\" style=\"stroke:white;stroke-width:5\"/><line x1=\"322.363\" y1=\"94.876\" x2=\"494.127\" y2=\"103.878\" stroke-linecap=\"round\" style=\"stroke:white;stroke-width:5\"/><line x1=\"494.127\" y1=\"103.878\" x2=\"575.815\" y2=\"257.511\" stroke-linecap=\"round\" style=\"stroke:white;stroke-width:5\"/><line x1=\"575.815\" y1=\"257.511\" x2=\"485.168\" y2=\"408.372\" stroke-linecap=\"round\" style=\"stroke:white;stroke-width:5\"/><line x1=\"485.168\" y1=\"408.372\" x2=\"307.168\" y2=\"408.372\" stroke-linecap=\"round\" style=\"stroke:white;stroke-width:5\"/><line x1=\"307.168\" y1=\"408.372\" x2=\"214.461\" y2=\"254.082\" stroke-linecap=\"round\" style=\"stroke:white;stroke-width:5\"/><line x1=\"214.461\" y1=\"254.082\" x2=\"299.905\" y2=\"93.386\" stroke-linecap=\"round\" style=\"stroke:white;stroke-width:5\"/><line x1=\"299.905\" y1=\"93.386\" x2=\"483.653\" y2=\"83.756\" stroke-linecap=\"round\" style=\"stroke:white;stroke-width:5\"/><line x1=\"483.653\" y1=\"83.756\" x2=\"587.663\" y2=\"237.957\" stroke-linecap=\"round\" style=\"stroke:white;stroke-width:5\"/><line x1=\"587.663\" y1=\"237.957\" x2=\"508.211\" y2=\"408.343\" stroke-linecap=\"round\" style=\"stroke:white;stroke-width:5\"/><line x1=\"508.211\" y1=\"408.343\" x2=\"319.252\" y2=\"428.203\" stroke-linecap=\"round\" style=\"stroke:white;stroke-width:5\"/><line x1=\"319.252\" y1=\"428.203\" x2=\"203.704\" y2=\"274.865\" stroke-linecap=\"round\" style=\"stroke:white;stroke-width:5\"/><line x1=\"203.704\" y1=\"274.865\" x2=\"276.378\" y2=\"94.991\" stroke-linecap=\"round\" style=\"stroke:white;stroke-width:5\"/><line x1=\"276.378\" y1=\"94.991\" x2=\"469.965\" y2=\"64.33\" stroke-linecap=\"round\" style=\"stroke:white;stroke-width:5\"/><line x1=\"469.965\" y1=\"64.33\" x2=\"597.237\" y2=\"216.007\" stroke-linecap=\"round\" style=\"stroke:white;stroke-width:5\"/><line x1=\"597.237\" y1=\"216.007\" x2=\"532.123\" y2=\"405.111\" stroke-linecap=\"round\" style=\"stroke:white;stroke-width:5\"/><line x1=\"532.123\" y1=\"405.111\" x2=\"334.537\" y2=\"447.109\" stroke-linecap=\"round\" style=\"stroke:white;stroke-width:5\"/><line x1=\"334.537\" y1=\"447.109\" x2=\"195.409\" y2=\"297.913\" stroke-linecap=\"round\" style=\"stroke:white;stroke-width:5\"/><line x1=\"195.409\" y1=\"297.913\" x2=\"252.19\" y2=\"99.893\" stroke-linecap=\"round\" style=\"stroke:white;stroke-width:5\"/><line x1=\"252.19\" y1=\"99.893\" x2=\"453.103\" y2=\"46.059\" stroke-linecap=\"round\" style=\"stroke:white;stroke-width:5\"/><line x1=\"453.103\" y1=\"46.059\" x2=\"604.164\" y2=\"191.937\" stroke-linecap=\"round\" style=\"stroke:white;stroke-width:5\"/><line x1=\"604.164\" y1=\"191.937\" x2=\"556.474\" y2=\"398.503\" stroke-linecap=\"round\" style=\"stroke:white;stroke-width:5\"/><line x1=\"556.474\" y1=\"398.503\" x2=\"352.948\" y2=\"464.633\" stroke-linecap=\"round\" style=\"stroke:white;stroke-width:5\"/><line x1=\"352.948\" y1=\"464.633\" x2=\"189.931\" y2=\"322.924\" stroke-linecap=\"round\" style=\"stroke:white;stroke-width:5\"/><line x1=\"189.931\" y1=\"322.924\" x2=\"227.786\" y2=\"108.236\" stroke-linecap=\"round\" style=\"stroke:white;stroke-width:5\"/><line x1=\"227.786\" y1=\"108.236\" x2=\"433.174\" y2=\"29.395\" stroke-linecap=\"round\" style=\"stroke:white;stroke-width:5\"/><line x1=\"433.174\" y1=\"29.395\" x2=\"608.112\" y2=\"166.072\" stroke-linecap=\"round\" style=\"stroke:white;stroke-width:5\"/><line x1=\"608.112\" y1=\"166.072\" x2=\"580.813\" y2=\"388.402\" stroke-linecap=\"round\" style=\"stroke:white;stroke-width:5\"/><line x1=\"580.813\" y1=\"388.402\" x2=\"374.352\" y2=\"480.324\" stroke-linecap=\"round\" style=\"stroke:white;stroke-width:5\"/><line x1=\"374.352\" y1=\"480.324\" x2=\"187.585\" y2=\"349.549\" stroke-linecap=\"round\" style=\"stroke:white;stroke-width:5\"/><line x1=\"187.585\" y1=\"349.549\" x2=\"203.629\" y2=\"120.109\" stroke-linecap=\"round\" style=\"stroke:white;stroke-width:5\"/><line x1=\"203.629\" y1=\"120.109\" x2=\"410.343\" y2=\"14.783\" stroke-linecap=\"round\" style=\"stroke:white;stroke-width:5\"/><line x1=\"410.343\" y1=\"14.783\" x2=\"608.786\" y2=\"138.784\" stroke-linecap=\"round\" style=\"stroke:white;stroke-width:5\"/><line x1=\"608.786\" y1=\"138.784\" x2=\"604.667\" y2=\"374.748\" stroke-linecap=\"round\" style=\"stroke:white;stroke-width:5\"/><line x1=\"604.667\" y1=\"374.748\" x2=\"398.553\" y2=\"493.748\" stroke-linecap=\"round\" style=\"stroke:white;stroke-width:5\"/><line x1=\"398.553\" y1=\"493.748\" x2=\"188.644\" y2=\"377.394\" stroke-linecap=\"round\" style=\"stroke:white;stroke-width:5\"/><line x1=\"188.644\" y1=\"377.394\" x2=\"180.198\" y2=\"135.541\" stroke-linecap=\"round\" style=\"stroke:white;stroke-width:5\"/><line x1=\"180.198\" y1=\"135.541\" x2=\"384.834\" y2=\"2.649\" stroke-linecap=\"round\" style=\"stroke:white;stroke-width:5\"/><line x1=\"384.834\" y1=\"2.649\" x2=\"605.937\" y2=\"110.488\" stroke-linecap=\"round\" style=\"stroke:white;stroke-width:5\"/><line x1=\"605.937\" y1=\"110.488\" x2=\"627.552\" y2=\"357.544\" stroke-linecap=\"round\" style=\"stroke:white;stroke-width:5\"/><line x1=\"627.552\" y1=\"357.544\" x2=\"425.298\" y2=\"504.49\" stroke-linecap=\"round\" style=\"stroke:white;stroke-width:5\"/><line x1=\"425.298\" y1=\"504.49\" x2=\"193.331\" y2=\"406.026\" stroke-linecap=\"round\" style=\"stroke:white;stroke-width:5\"/><line x1=\"193.331\" y1=\"406.026\" x2=\"157.981\" y2=\"154.498\" stroke-linecap=\"round\" style=\"stroke:white;stroke-width:5\"/><line x1=\"157.981\" y1=\"154.498\" x2=\"356.93\" y2=\"-6.608\" stroke-linecap=\"round\" style=\"stroke:white;stroke-width:5\"/><line x1=\"356.93\" y1=\"-6.608\" x2=\"599.371\" y2=\"81.633\" stroke-linecap=\"round\" style=\"stroke:white;stroke-width:5\"/><line x1=\"599.371\" y1=\"81.633\" x2=\"648.981\" y2=\"336.856\" stroke-linecap=\"round\" style=\"stroke:white;stroke-width:5\"/><line x1=\"648.981\" y1=\"336.856\" x2=\"454.277\" y2=\"512.168\" stroke-linecap=\"round\" style=\"stroke:white;stroke-width:5\"/><line x1=\"454.277\" y1=\"512.168\" x2=\"201.813\" y2=\"434.982\" stroke-linecap=\"round\" style=\"stroke:white;stroke-width:5\"/><line x1=\"201.813\" y1=\"434.982\" x2=\"137.462\" y2=\"176.883\" stroke-linecap=\"round\" style=\"stroke:white;stroke-width:5\"/><line x1=\"137.462\" y1=\"176.883\" x2=\"326.967\" y2=\"-12.622\" stroke-linecap=\"round\" style=\"stroke:white;stroke-width:5\"/><line x1=\"326.967\" y1=\"-12.622\" x2=\"588.947\" y2=\"52.697\" stroke-linecap=\"round\" style=\"stroke:white;stroke-width:5\"/><line x1=\"588.947\" y1=\"52.697\" x2=\"668.472\" y2=\"312.812\" stroke-linecap=\"round\" style=\"stroke:white;stroke-width:5\"/><line x1=\"668.472\" y1=\"312.812\" x2=\"485.13\" y2=\"516.434\" stroke-linecap=\"round\" style=\"stroke:white;stroke-width:5\"/><line x1=\"485.13\" y1=\"516.434\" x2=\"214.201\" y2=\"463.771\" stroke-linecap=\"round\" style=\"stroke:white;stroke-width:5\"/><line x1=\"214.201\" y1=\"463.771\" x2=\"119.119\" y2=\"202.536\" stroke-linecap=\"round\" style=\"stroke:white;stroke-width:5\"/><line x1=\"119.119\" y1=\"202.536\" x2=\"295.329\" y2=\"-15.065\" stroke-linecap=\"round\" style=\"stroke:white;stroke-width:5\"/><line x1=\"295.329\" y1=\"-15.065\" x2=\"574.585\" y2=\"24.182\" stroke-linecap=\"round\" style=\"stroke:white;stroke-width:5\"/><line x1=\"574.585\" y1=\"24.182\" x2=\"685.553\" y2=\"285.605\" stroke-linecap=\"round\" style=\"stroke:white;stroke-width:5\"/><line x1=\"685.553\" y1=\"285.605\" x2=\"517.446\" y2=\"516.984\" stroke-linecap=\"round\" style=\"stroke:white;stroke-width:5\"/><line x1=\"517.446\" y1=\"516.984\" x2=\"230.542\" y2=\"491.883\" stroke-linecap=\"round\" style=\"stroke:white;stroke-width:5\"/><line x1=\"230.542\" y1=\"491.883\" x2=\"103.414\" y2=\"231.233\" stroke-linecap=\"round\" style=\"stroke:white;stroke-width:5\"/><line x1=\"103.414\" y1=\"231.233\" x2=\"262.449\" y2=\"-13.659\" stroke-linecap=\"round\" style=\"stroke:white;stroke-width:5\"/><line x1=\"262.449\" y1=\"-13.659\" x2=\"556.27\" y2=\"-3.399\" stroke-linecap=\"round\" style=\"stroke:white;stroke-width:5\"/><line x1=\"556.27\" y1=\"-3.399\" x2=\"699.774\" y2=\"255.488\" stroke-linecap=\"round\" style=\"stroke:white;stroke-width:5\"/><line x1=\"699.774\" y1=\"255.488\" x2=\"550.774\" y2=\"513.564\" stroke-linecap=\"round\" style=\"stroke:white;stroke-width:5\"/><line x1=\"550.774\" y1=\"513.564\" x2=\"250.82\" y2=\"518.8\" stroke-linecap=\"round\" style=\"stroke:white;stroke-width:5\"/><line x1=\"250.82\" y1=\"518.8\" x2=\"90.784\" y2=\"262.689\" stroke-linecap=\"round\" style=\"stroke:white;stroke-width:5\"/><line x1=\"90.784\" y1=\"262.689\" x2=\"228.797\" y2=\"-8.177\" stroke-linecap=\"round\" style=\"stroke:white;stroke-width:5\"/><line x1=\"228.797\" y1=\"-8.177\" x2=\"534.052\" y2=\"-29.522\" stroke-linecap=\"round\" style=\"stroke:white;stroke-width:5\"/><line x1=\"534.052\" y1=\"-29.522\" x2=\"710.714\" y2=\"222.777\" stroke-linecap=\"round\" style=\"stroke:white;stroke-width:5\"/><line x1=\"710.714\" y1=\"222.777\" x2=\"584.626\" y2=\"505.976\" stroke-linecap=\"round\" style=\"stroke:white;stroke-width:5\"/><line x1=\"584.626\" y1=\"505.976\" x2=\"274.952\" y2=\"543.999\" stroke-linecap=\"round\" style=\"stroke:white;stroke-width:5\"/><line x1=\"274.952\" y1=\"543.999\" x2=\"81.634\" y2=\"296.564\" stroke-linecap=\"round\" style=\"stroke:white;stroke-width:5\"/><line x1=\"81.634\" y1=\"296.564\" x2=\"194.878\" y2=\"1.553\" stroke-linecap=\"round\" style=\"stroke:white;stroke-width:5\"/><line x1=\"194.878\" y1=\"1.553\" x2=\"508.047\" y2=\"-53.667\" stroke-linecap=\"round\" style=\"stroke:white;stroke-width:5\"/><line x1=\"508.047\" y1=\"-53.667\" x2=\"717.986\" y2=\"187.84\" stroke-linecap=\"round\" style=\"stroke:white;stroke-width:5\"/><line x1=\"717.986\" y1=\"187.84\" x2=\"618.483\" y2=\"494.08\" stroke-linecap=\"round\" style=\"stroke:white;stroke-width:5\"/><line x1=\"618.483\" y1=\"494.08\" x2=\"302.787\" y2=\"566.964\" stroke-linecap=\"round\" style=\"stroke:white;stroke-width:5\"/><line x1=\"302.787\" y1=\"566.964\" x2=\"76.328\" y2=\"332.459\" stroke-linecap=\"round\" style=\"stroke:white;stroke-width:5\"/><line x1=\"76.328\" y1=\"332.459\" x2=\"161.221\" y2=\"15.635\" stroke-linecap=\"round\" style=\"stroke:white;stroke-width:5\"/><line x1=\"161.221\" y1=\"15.635\" x2=\"478.437\" y2=\"-75.325\" stroke-linecap=\"round\" style=\"stroke:white;stroke-width:5\"/><line x1=\"478.437\" y1=\"-75.325\" x2=\"721.246\" y2=\"151.098\" stroke-linecap=\"round\" style=\"stroke:white;stroke-width:5\"/><line x1=\"721.246\" y1=\"151.098\" x2=\"651.803\" y2=\"477.799\" stroke-linecap=\"round\" style=\"stroke:white;stroke-width:5\"/><line x1=\"651.803\" y1=\"477.799\" x2=\"334.109\" y2=\"587.19\" stroke-linecap=\"round\" style=\"stroke:white;stroke-width:5\"/><line x1=\"334.109\" y1=\"587.19\" x2=\"75.186\" y2=\"369.928\" stroke-linecap=\"round\" style=\"stroke:white;stroke-width:5\"/><line x1=\"75.186\" y1=\"369.928\" x2=\"128.374\" y2=\"34.114\" stroke-linecap=\"round\" style=\"stroke:white;stroke-width:5\"/><line x1=\"128.374\" y1=\"34.114\" x2=\"445.471\" y2=\"-94.001\" stroke-linecap=\"round\" style=\"stroke:white;stroke-width:5\"/><line x1=\"445.471\" y1=\"-94.001\" x2=\"720.202\" y2=\"113.023\" stroke-linecap=\"round\" style=\"stroke:white;stroke-width:5\"/><line x1=\"720.202\" y1=\"113.023\" x2=\"684.035\" y2=\"457.128\" stroke-linecap=\"round\" style=\"stroke:white;stroke-width:5\"/><line x1=\"684.035\" y1=\"457.128\" x2=\"368.64\" y2=\"604.199\" stroke-linecap=\"round\" style=\"stroke:white;stroke-width:5\"/><line x1=\"368.64\" y1=\"604.199\" x2=\"78.477\" y2=\"408.481\" stroke-linecap=\"round\" style=\"stroke:white;stroke-width:5\"/><line x1=\"78.477\" y1=\"408.481\" x2=\"96.899\" y2=\"56.963\" stroke-linecap=\"round\" style=\"stroke:white;stroke-width:5\"/><line x1=\"96.899\" y1=\"56.963\" x2=\"409.462\" y2=\"-109.23\" stroke-linecap=\"round\" style=\"stroke:white;stroke-width:5\"/><line x1=\"409.462\" y1=\"-109.23\" x2=\"714.614\" y2=\"74.124\" stroke-linecap=\"round\" style=\"stroke:white;stroke-width:5\"/><line x1=\"714.614\" y1=\"74.124\" x2=\"714.614\" y2=\"432.124\" stroke-linecap=\"round\" style=\"stroke:white;stroke-width:5\"/><line x1=\"714.614\" y1=\"432.124\" x2=\"406.034\" y2=\"617.538\" stroke-linecap=\"round\" style=\"stroke:white;stroke-width:5\"/><line x1=\"406.034\" y1=\"617.538\" x2=\"86.407\" y2=\"447.589\" stroke-linecap=\"round\" style=\"stroke:white;stroke-width:5\"/><line x1=\"86.407\" y1=\"447.589\" x2=\"67.357\" y2=\"84.088\" stroke-linecap=\"round\" style=\"stroke:white;stroke-width:5\"/><line x1=\"67.357\" y1=\"84.088\" x2=\"370.785\" y2=\"-120.577\" stroke-linecap=\"round\" style=\"stroke:white;stroke-width:5\"/><line x1=\"370.785\" y1=\"-120.577\" x2=\"704.306\" y2=\"34.947\" stroke-linecap=\"round\" style=\"stroke:white;stroke-width:5\"/><line x1=\"704.306\" y1=\"34.947\" x2=\"742.982\" y2=\"402.92\" stroke-linecap=\"round\" style=\"stroke:white;stroke-width:5\"/><line x1=\"742.982\" y1=\"402.92\" x2=\"445.89\" y2=\"626.795\" stroke-linecap=\"round\" style=\"stroke:white;stroke-width:5\"/><line x1=\"445.89\" y1=\"626.795\" x2=\"99.123\" y2=\"486.692\" stroke-linecap=\"round\" style=\"stroke:white;stroke-width:5\"/><line x1=\"99.123\" y1=\"486.692\" x2=\"40.304\" y2=\"115.321\" stroke-linecap=\"round\" style=\"stroke:white;stroke-width:5\"/><line x1=\"40.304\" y1=\"115.321\" x2=\"329.869\" y2=\"-127.653\" stroke-linecap=\"round\" style=\"stroke:white;stroke-width:5\"/><line x1=\"329.869\" y1=\"-127.653\" x2=\"689.166\" y2=\"-3.937\" stroke-linecap=\"round\" style=\"stroke:white;stroke-width:5\"/><line x1=\"689.166\" y1=\"-3.937\" x2=\"768.588\" y2=\"369.715\" stroke-linecap=\"round\" style=\"stroke:white;stroke-width:5\"/><line x1=\"768.588\" y1=\"369.715\" x2=\"487.748\" y2=\"631.602\" stroke-linecap=\"round\" style=\"stroke:white;stroke-width:5\"/><line x1=\"487.748\" y1=\"631.602\" x2=\"116.701\" y2=\"525.206\" stroke-linecap=\"round\" style=\"stroke:white;stroke-width:5\"/><line x1=\"116.701\" y1=\"525.206\" x2=\"16.279\" y2=\"150.427\" stroke-linecap=\"round\" style=\"stroke:white;stroke-width:5\"/><line x1=\"16.279\" y1=\"150.427\" x2=\"287.196\" y2=\"-130.116\" stroke-linecap=\"round\" style=\"stroke:white;stroke-width:5\"/><line x1=\"287.196\" y1=\"-130.116\" x2=\"669.149\" y2=\"-41.935\" stroke-linecap=\"round\" style=\"stroke:white;stroke-width:5\"/><line x1=\"669.149\" y1=\"-41.935\" x2=\"790.902\" y2=\"332.781\" stroke-linecap=\"round\" style=\"stroke:white;stroke-width:5\"/><line x1=\"790.902\" y1=\"332.781\" x2=\"531.103\" y2=\"631.646\" stroke-linecap=\"round\" style=\"stroke:white;stroke-width:5\"/><line x1=\"531.103\" y1=\"631.646\" x2=\"139.15\" y2=\"562.534\" stroke-linecap=\"round\" style=\"stroke:white;stroke-width:5\"/>\n",
              "        <g visibility=visible transform=\"rotate(280,139.15,562.534) translate(121.15, 544.534)\">\n",
              "<path style=\" stroke:none;fill-rule:evenodd;fill:white;fill-opacity:1;\" d=\"M 18.214844 0.632812 C 16.109375 1.800781 15.011719 4.074219 15.074219 7.132812 L 15.085938 7.652344 L 14.785156 7.496094 C 13.476562 6.824219 11.957031 6.671875 10.40625 7.066406 C 8.46875 7.550781 6.515625 9.15625 4.394531 11.992188 C 3.0625 13.777344 2.679688 14.636719 3.042969 15.027344 L 3.15625 15.152344 L 3.519531 15.152344 C 4.238281 15.152344 4.828125 14.886719 8.1875 13.039062 C 9.386719 12.378906 10.371094 11.839844 10.378906 11.839844 C 10.386719 11.839844 10.355469 11.929688 10.304688 12.035156 C 9.832031 13.09375 9.257812 14.820312 8.96875 16.078125 C 7.914062 20.652344 8.617188 24.53125 11.070312 27.660156 C 11.351562 28.015625 11.363281 27.914062 10.972656 28.382812 C 8.925781 30.84375 7.945312 33.28125 8.238281 35.1875 C 8.289062 35.527344 8.28125 35.523438 8.917969 35.523438 C 10.941406 35.523438 13.074219 34.207031 15.136719 31.6875 C 15.359375 31.417969 15.328125 31.425781 15.5625 31.574219 C 16.292969 32.042969 18.023438 32.964844 18.175781 32.964844 C 18.335938 32.964844 19.941406 32.210938 20.828125 31.71875 C 20.996094 31.625 21.136719 31.554688 21.136719 31.558594 C 21.203125 31.664062 21.898438 32.414062 22.222656 32.730469 C 23.835938 34.300781 25.5625 35.132812 27.582031 35.300781 C 27.90625 35.328125 27.9375 35.308594 28.007812 34.984375 C 28.382812 33.242188 27.625 30.925781 25.863281 28.425781 L 25.542969 27.96875 L 25.699219 27.785156 C 28.945312 23.960938 29.132812 18.699219 26.257812 11.96875 L 26.207031 11.84375 L 27.945312 12.703125 C 31.53125 14.476562 32.316406 14.800781 33.03125 14.800781 C 33.976562 14.800781 33.78125 13.9375 32.472656 12.292969 C 28.519531 7.355469 25.394531 5.925781 21.921875 7.472656 L 21.558594 7.636719 L 21.578125 7.542969 C 21.699219 6.992188 21.761719 5.742188 21.699219 5.164062 C 21.496094 3.296875 20.664062 1.964844 19.003906 0.855469 C 18.480469 0.503906 18.457031 0.5 18.214844 0.632812\"/>\n",
              "</g>\n",
              "      </svg>\n",
              "    "
            ],
            "text/plain": [
              "<IPython.core.display.HTML object>"
            ]
          },
          "metadata": {}
        }
      ]
    }
  ]
}